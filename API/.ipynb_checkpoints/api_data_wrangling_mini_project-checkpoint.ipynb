{
 "cells": [
  {
   "cell_type": "markdown",
   "metadata": {},
   "source": [
    "This exercise will require you to pull some data from the Qunadl API. Qaundl is currently the most widely used aggregator of financial market data."
   ]
  },
  {
   "cell_type": "markdown",
   "metadata": {},
   "source": [
    "As a first step, you will need to register a free account on the http://www.quandl.com website."
   ]
  },
  {
   "cell_type": "markdown",
   "metadata": {},
   "source": [
    "After you register, you will be provided with a unique API key, that you should store:"
   ]
  },
  {
   "cell_type": "code",
   "execution_count": 1,
   "metadata": {},
   "outputs": [],
   "source": [
    "# Store the API key as a string - according to PEP8, constants are always named in all upper case\n",
    "API_KEY = 'removed'"
   ]
  },
  {
   "cell_type": "markdown",
   "metadata": {},
   "source": [
    "Qaundl has a large number of data sources, but, unfortunately, most of them require a Premium subscription. Still, there are also a good number of free datasets."
   ]
  },
  {
   "cell_type": "markdown",
   "metadata": {},
   "source": [
    "For this mini project, we will focus on equities data from the Frankfurt Stock Exhange (FSE), which is available for free. We'll try and analyze the stock prices of a company called Carl Zeiss Meditec, which manufactures tools for eye examinations, as well as medical lasers for laser eye surgery: https://www.zeiss.com/meditec/int/home.html. The company is listed under the stock ticker AFX_X."
   ]
  },
  {
   "cell_type": "markdown",
   "metadata": {},
   "source": [
    "You can find the detailed Quandl API instructions here: https://docs.quandl.com/docs/time-series"
   ]
  },
  {
   "cell_type": "markdown",
   "metadata": {},
   "source": [
    "While there is a dedicated Python package for connecting to the Quandl API, we would prefer that you use the *requests* package, which can be easily downloaded using *pip* or *conda*. You can find the documentation for the package here: http://docs.python-requests.org/en/master/ "
   ]
  },
  {
   "cell_type": "markdown",
   "metadata": {},
   "source": [
    "Finally, apart from the *requests* package, you are encouraged to not use any third party Python packages, such as *pandas*, and instead focus on what's available in the Python Standard Library (the *collections* module might come in handy: https://pymotw.com/3/collections/ ).\n",
    "Also, since you won't have access to DataFrames, you are encouraged to us Python's native data structures - preferably dictionaries, though some questions can also be answered using lists.\n",
    "You can read more on these data structures here: https://docs.python.org/3/tutorial/datastructures.html"
   ]
  },
  {
   "cell_type": "markdown",
   "metadata": {},
   "source": [
    "Keep in mind that the JSON responses you will be getting from the API map almost one-to-one to Python's dictionaries. Unfortunately, they can be very nested, so make sure you read up on indexing dictionaries in the documentation provided above."
   ]
  },
  {
   "cell_type": "code",
   "execution_count": 2,
   "metadata": {},
   "outputs": [],
   "source": [
    "# First, import the relevant modules\n",
    "import requests\n",
    "import collections"
   ]
  },
  {
   "cell_type": "code",
   "execution_count": 3,
   "metadata": {},
   "outputs": [],
   "source": [
    "# Now, call the Quandl API and pull out a small sample of the data (only one day) to get a glimpse\n",
    "# into the JSON structure that will be returned\n",
    "url = \"https://www.quandl.com/api/v3/datasets/FSE/AFX_X/data.json?limit=1&api_key={}\".format(API_KEY) #\"limit=1\" used to get just one day\n",
    "r = requests.get(url)"
   ]
  },
  {
   "cell_type": "code",
   "execution_count": 4,
   "metadata": {},
   "outputs": [
    {
     "data": {
      "text/plain": [
       "{'dataset_data': {'limit': 1,\n",
       "  'transform': None,\n",
       "  'column_index': None,\n",
       "  'column_names': ['Date',\n",
       "   'Open',\n",
       "   'High',\n",
       "   'Low',\n",
       "   'Close',\n",
       "   'Change',\n",
       "   'Traded Volume',\n",
       "   'Turnover',\n",
       "   'Last Price of the Day',\n",
       "   'Daily Traded Units',\n",
       "   'Daily Turnover'],\n",
       "  'start_date': '2000-06-07',\n",
       "  'end_date': '2020-12-01',\n",
       "  'frequency': 'daily',\n",
       "  'data': [['2020-12-01',\n",
       "    112.2,\n",
       "    112.2,\n",
       "    111.5,\n",
       "    112.0,\n",
       "    None,\n",
       "    51.0,\n",
       "    5703.0,\n",
       "    None,\n",
       "    None,\n",
       "    None]],\n",
       "  'collapse': None,\n",
       "  'order': None}}"
      ]
     },
     "execution_count": 4,
     "metadata": {},
     "output_type": "execute_result"
    }
   ],
   "source": [
    "# Inspect the JSON structure of the object you created, and take note of how nested it is,\n",
    "# as well as the overall structure\n",
    "json_data = r.json()\n",
    "json_data"
   ]
  },
  {
   "cell_type": "markdown",
   "metadata": {},
   "source": [
    "These are your tasks for this mini project:\n",
    "\n",
    "1. Collect data from the Franfurt Stock Exchange, for the ticker AFX_X, for the whole year 2017 (keep in mind that the date format is YYYY-MM-DD).\n",
    "2. Convert the returned JSON object into a Python dictionary.\n",
    "3. Calculate what the highest and lowest opening prices were for the stock in this period.\n",
    "4. What was the largest change in any one day (based on High and Low price)?\n",
    "5. What was the largest change between any two days (based on Closing Price)?\n",
    "6. What was the average daily trading volume during this year?\n",
    "7. (Optional) What was the median trading volume during this year. (Note: you may need to implement your own function for calculating the median.)"
   ]
  },
  {
   "cell_type": "code",
   "execution_count": 5,
   "metadata": {
    "scrolled": true
   },
   "outputs": [
    {
     "name": "stdout",
     "output_type": "stream",
     "text": [
      "<class 'dict'>\n"
     ]
    }
   ],
   "source": [
    "#TASK 1 Collect Data\n",
    "#fetches Carl Zeiss data from FSE from Jan 1 to Dec 31, 2017, sorted ascending\n",
    "url2 = \"https://www.quandl.com/api/v3/datasets/FSE/AFX_X/data.json?start_date='2017-01-01'&end_date='2017-12-31'&order=asc&api_key={}\".format(API_KEY)\n",
    "r2 = requests.get(url2)\n",
    "#TASK 2 Convert result to dictionary\n",
    "czdat = r2.json()\n",
    "print(type(czdat)) #Shows that the new variabl is a dictionary per Task 2"
   ]
  },
  {
   "cell_type": "code",
   "execution_count": 6,
   "metadata": {},
   "outputs": [
    {
     "data": {
      "text/plain": [
       "['Date',\n",
       " 'Open',\n",
       " 'High',\n",
       " 'Low',\n",
       " 'Close',\n",
       " 'Change',\n",
       " 'Traded Volume',\n",
       " 'Turnover',\n",
       " 'Last Price of the Day',\n",
       " 'Daily Traded Units',\n",
       " 'Daily Turnover']"
      ]
     },
     "execution_count": 6,
     "metadata": {},
     "output_type": "execute_result"
    }
   ],
   "source": [
    "#list of the values of the column name list. This is the actual data in order. Listed here for later reference.\n",
    "czdat['dataset_data']['column_names']"
   ]
  },
  {
   "cell_type": "code",
   "execution_count": 7,
   "metadata": {},
   "outputs": [],
   "source": [
    "#creates a dictionary with date as the key and a named tuple with the original dictionary entry for the data\n",
    "#Named tuple didn't like names with spaces, so a new list was created with similar column names.\n",
    "newDict = {}\n",
    "colNames = ['Date','Open', 'High', 'Low', 'Close', 'Change', 'Traded_Volume','Turnover', 'Last_Price_Day', 'Daily_Traded_Units', 'Daily_Turnover']\n",
    "stockDate = collections.namedtuple('DATE', colNames)\n",
    "for i in range(len(czdat['dataset_data']['data'])):\n",
    "    tempData = stockDate._make(czdat['dataset_data']['data'][i])\n",
    "    newDict[czdat['dataset_data']['data'][i][0]] = tempData\n"
   ]
  },
  {
   "cell_type": "code",
   "execution_count": 8,
   "metadata": {},
   "outputs": [
    {
     "name": "stdout",
     "output_type": "stream",
     "text": [
      "Task 3:\n",
      "The Highest opening price was 53.11 on 2017-12-14.\n",
      "The Lowest opening price was 34.0 on 2017-01-24.\n",
      "Task 4:\n",
      "The largest change beween opening price and closing price in one day was 2.81 on 2017-05-11.\n",
      "Task 5:\n",
      "The largest change beween two consecutive business day closing prices was 2.56 on 2017-08-09.\n",
      "Task 6:\n",
      "The average daily trade volume was 89124\n",
      "Task 7:\n",
      "The median daily trade volume was 76286\n"
     ]
    }
   ],
   "source": [
    "#TASK 3 - 7\n",
    "\n",
    "hOpen = 0 #store the highest opening value\n",
    "lOpen = 0 #store the lowest opening value\n",
    "\n",
    "dayDelta = 0 #store the largest difference between high and low values for the same day \n",
    "\n",
    "twoDayDelta = 0 #store the biggest delta between two consecutive business day closing values\n",
    "yesterday = 0 #store yesterday's value during the loop\n",
    "firstDay = True #skip the yesterday math on day 1\n",
    "\n",
    "total = 0 #Running total of traded volume\n",
    "\n",
    "medList = [] #empty list to populate with trade volumes for sorting to find median\n",
    "\n",
    "#Loops through each day in the dictionary and does all the comparisons\n",
    "for day in newDict:\n",
    "#look for the highest and lowest \"Open\" value.\n",
    "    if lOpen == 0:\n",
    "        lOpen = newDict[day].Open #Arbitrarly initializing with the first date in the dictionary\n",
    "        lDay = newDict[day].Date\n",
    "    if newDict[day].Open != None: #Boolean comparison chokes on Nones\n",
    "        if newDict[day].Open > hOpen:\n",
    "            hOpen = newDict[day].Open\n",
    "            hDay = newDict[day].Date\n",
    "        elif newDict[day].Open < lOpen:\n",
    "            lOpen = newDict[day].Open\n",
    "            lDay = newDict[day].Date\n",
    "\n",
    "#TASK 4\n",
    "#What was the largest change in any one day (based on High and Low price)?\n",
    "\n",
    "#Since we're already looping through the dictionary, there's no point to repeat the loop in another cell.\n",
    "    if newDict[day].High != 0 and newDict[day].Low != 0:\n",
    "        if (newDict[day].High - newDict[day].Low) > dayDelta:\n",
    "            dayDelta = (newDict[day].High - newDict[day].Low)\n",
    "            dayDeltaDate = newDict[day].Date\n",
    "            \n",
    "#TASK 5\n",
    "#\"What was the largest change between any two days (based on Closing Price)?\"\n",
    "\n",
    "#This task is ambiguous as to whether the intent is any two consecutive days, or any two days in the year.\n",
    "#If \"any\" means \"any\", the task is simply to find the lowest close and highest close. Since we did that\n",
    "#with the opening prices, doing it with closing is trivial using newDict.[day].Close.\n",
    "#I will choose the harder of the two tasks and find the greatest change between any two consecutive business days.\n",
    "    if firstDay:\n",
    "        firstDay = False\n",
    "    elif abs(newDict[day].Close - yesterday) > twoDayDelta:\n",
    "        twoDayDelta = abs(newDict[day].Close - yesterday)\n",
    "        twoDayDate = newDict[day].Date\n",
    "    yesterday = newDict[day].Close\n",
    "    \n",
    "\n",
    "\n",
    "#TASK 6\n",
    "#What was the average daily trading volume during this year?\n",
    "\n",
    "#we're already in the loop, so brute force is approved.\n",
    "#this captures the sum of all trade volumes, later to be divided be count of trade volume days to get average\n",
    "    if newDict[day].Traded_Volume != None: #Skips any days that have a value of \"none\"\n",
    "        total = total + newDict[day].Traded_Volume\n",
    "        medList.append(newDict[day].Traded_Volume) #Already looping through trade volumes, so we'll do this here\n",
    "        \n",
    "\n",
    "#TASK 7\n",
    "#What was the median trading volume during this year?\n",
    "#sort the list of trade volumes and find the middle. If number of values is even, divide the two middle values\n",
    "#If odd, take the middle value\n",
    "medList.sort()\n",
    "if len(medList) % 2 == 0:\n",
    "    med1 = medList[len(medList)//2]\n",
    "    med2 = medList[len(medList)//2 -1]\n",
    "    medValue = (med1 + med2)/2\n",
    "else:\n",
    "    medValue = medList[len(medList)//2]\n",
    "  \n",
    "    \n",
    "print('Task 3:')\n",
    "print('The Highest opening price was {} on {}.'.format(hOpen, hDay))\n",
    "print('The Lowest opening price was {} on {}.'.format(lOpen, lDay))\n",
    "print('Task 4:')\n",
    "print('The largest change beween opening price and closing price in one day was {} on {}.'.format(round(dayDelta, 2), dayDeltaDate))\n",
    "print('Task 5:')\n",
    "print('The largest change beween two consecutive business day closing prices was {} on {}.'.format(round(twoDayDelta, 2), twoDayDate))\n",
    "print('Task 6:')\n",
    "print('The average daily trade volume was {}'.format(int(total/len(medList))))\n",
    "print('Task 7:')\n",
    "print('The median daily trade volume was {}'.format(int(medValue)))"
   ]
  }
 ],
 "metadata": {
  "kernelspec": {
   "display_name": "Python 3",
   "language": "python",
   "name": "python3"
  },
  "language_info": {
   "codemirror_mode": {
    "name": "ipython",
    "version": 3
   },
   "file_extension": ".py",
   "mimetype": "text/x-python",
   "name": "python",
   "nbconvert_exporter": "python",
   "pygments_lexer": "ipython3",
   "version": "3.8.5"
  }
 },
 "nbformat": 4,
 "nbformat_minor": 2
}
